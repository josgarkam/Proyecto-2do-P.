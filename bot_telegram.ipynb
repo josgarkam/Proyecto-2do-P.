{
  "nbformat": 4,
  "nbformat_minor": 0,
  "metadata": {
    "colab": {
      "name": "bot-telegram.ipynb",
      "provenance": [],
      "collapsed_sections": [],
      "authorship_tag": "ABX9TyPPcDHMxZw4l4CzQNRM1XYp",
      "include_colab_link": true
    },
    "kernelspec": {
      "name": "python3",
      "display_name": "Python 3"
    }
  },
  "cells": [
    {
      "cell_type": "markdown",
      "metadata": {
        "id": "view-in-github",
        "colab_type": "text"
      },
      "source": [
        "<a href=\"https://colab.research.google.com/github/josgarkam/Proyecto-2do-P./blob/main/bot_telegram.ipynb\" target=\"_parent\"><img src=\"https://colab.research.google.com/assets/colab-badge.svg\" alt=\"Open In Colab\"/></a>"
      ]
    },
    {
      "cell_type": "code",
      "metadata": {
        "id": "uqH7f-nP1jOl"
      },
      "source": [
        "# Importar libreias\r\n",
        "from vuelos import Vuelos\r\n",
        "from telegram.ext import (Updater, CommandHandler, MessageHandler, Filters, RegexHandler, ConversationHandler, CallbackQueryHandler)\r\n",
        "\r\n",
        "# Define los comandos de telegram\r\n",
        "def start(update, context):\r\n",
        "    \"\"\"Send a message when the command /start is issued.\"\"\"\r\n",
        "    update.message.reply_text('hola')\r\n",
        "\r\n",
        "\r\n",
        "def ayuda(update, context):\r\n",
        "    \"\"\"Send a message when the command /help is issued.\"\"\"\r\n",
        "    update.message.reply_text('ayuda!')\r\n",
        "\r\n",
        "\r\n",
        "TOKEN = \"1648931352:AAHpfb9_Kaqw8oeWTlihHbyf5Ze_Jn4vlqI\" \r\n",
        "\r\n",
        "v1 = Vuelos(\"tame\",\"GUAYAQUIL\", \"QUITO\", \"40 minutos\",400,\"f1\",\"f2\",\"0\",\"/GYEUIO\")\r\n",
        "v2 = Vuelos(\"Latan\",\"GUAYAQUIL\", \"GALAPAGOS\",\"120 minutos\",1555,\"f1\",\"f2\",\"0\",\"/GYESCY\")\r\n",
        "v3 = Vuelos(\"Latan\",\"GUAYAQUIL\", \"CUENCA\", \"90 minutos\",900,\"f1\",\"f2\",\"0\",\"/GYECUE\")\r\n",
        "v4 = Vuelos(\"Latan\",\"GUAYAQUIL\", \"MANTA\", \"60 minutos\",200,\"f1\",\"f2\",\"0\",\"/GYEMEC\")\r\n",
        "v5 = Vuelos(\"LAN ECUADOR\",\"MANTA\",\"GUAYAQUIL\",\"40 minutos\",90,\"f1\",\"f2\",\"0\",\"/MECGYE\")\r\n",
        "\r\n",
        "\r\n",
        "ncliente=\"\"\r\n",
        "esperando_ruta = 0\r\n",
        "\r\n",
        "\r\n",
        "bv = False\r\n",
        "idv=False\r\n",
        "v=[]\r\n",
        "of=[]\r\n",
        "ff=[]\r\n",
        "vtt=Viaje\r\n",
        "c=\"\"\r\n",
        "tt=0\r\n",
        "n=0\r\n",
        "\r\n",
        "\r\n",
        "of.append(v1)\r\n",
        "of.append(v2)\r\n",
        "of.append(v3)\r\n",
        "of.append(v4)\r\n",
        "of.append(v5)\r\n",
        "\r\n",
        "\r\n",
        "def main():\r\n",
        "    \"\"\"Inicio del bot.\"\"\"\r\n",
        "    # Ejecución del token\r\n",
        "    updater = Updater(TOKEN)\r\n",
        "\r\n",
        "    # Obtiene el registro de los controladores del planificador\r\n",
        "    dp = updater.dispatcher\r\n",
        "\r\n",
        "    # comandos de telegram\r\n",
        "    dp.add_handler(CommandHandler(\"start\", start))\r\n",
        "    dp.add_handler(CommandHandler(\"ayuda\", ayuda))\r\n",
        "\r\n",
        "    # Iniciar bot\r\n",
        "    updater.start_polling()\r\n",
        "\r\n",
        "    # Actualizamos el estado del bot\r\n",
        "    updater.idle()\r\n",
        "\r\n",
        "\r\n",
        "if __name__ == '__main__':\r\n",
        "    main()"
      ],
      "execution_count": null,
      "outputs": []
    },
    {
      "cell_type": "code",
      "metadata": {
        "id": "qlPR99rrcodR"
      },
      "source": [
        ""
      ],
      "execution_count": null,
      "outputs": []
    },
    {
      "cell_type": "code",
      "metadata": {
        "id": "yeCEpNiIcMGg"
      },
      "source": [
        "pip install python-telegram-bot"
      ],
      "execution_count": null,
      "outputs": []
    }
  ]
}